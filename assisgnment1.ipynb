{
 "cells": [
  {
   "cell_type": "code",
   "execution_count": 2,
   "id": "f72bf7c3-a243-4292-8b16-d396603ae127",
   "metadata": {},
   "outputs": [],
   "source": [
    "# assisgnment 1\n",
    "# question 1\n",
    "my_string = \"Hello, world!\"\n"
   ]
  },
  {
   "cell_type": "code",
   "execution_count": null,
   "id": "c1d19692-6a65-4d93-8614-05331894e1a3",
   "metadata": {},
   "outputs": [],
   "source": [
    "my_list = [1, 2, 3, 4, 5]\n"
   ]
  },
  {
   "cell_type": "code",
   "execution_count": 4,
   "id": "32dc5316-2175-4511-ba7c-31b4f429a62c",
   "metadata": {},
   "outputs": [],
   "source": [
    "my_float = 3.14159\n",
    "\n",
    "\n",
    "my_tuple = (1, 2, 3, 4, 5)\n"
   ]
  },
  {
   "cell_type": "code",
   "execution_count": 5,
   "id": "127ac4c4-6c12-4c6e-aac3-be17aae8dc64",
   "metadata": {},
   "outputs": [
    {
     "data": {
      "text/plain": [
       "str"
      ]
     },
     "execution_count": 5,
     "metadata": {},
     "output_type": "execute_result"
    }
   ],
   "source": [
    "# quetion 2\n",
    "var1=''\n",
    "type(var1)"
   ]
  },
  {
   "cell_type": "code",
   "execution_count": 10,
   "id": "71f65277-65fb-4cf7-8951-dc615b416f80",
   "metadata": {},
   "outputs": [
    {
     "data": {
      "text/plain": [
       "str"
      ]
     },
     "execution_count": 10,
     "metadata": {},
     "output_type": "execute_result"
    }
   ],
   "source": [
    "var2 = '[ DS , ML , Python]'\n",
    "type(var2)"
   ]
  },
  {
   "cell_type": "code",
   "execution_count": 14,
   "id": "3a0a5e1c-9b9a-49bd-a4a3-d006699ad359",
   "metadata": {},
   "outputs": [
    {
     "data": {
      "text/plain": [
       "list"
      ]
     },
     "execution_count": 14,
     "metadata": {},
     "output_type": "execute_result"
    }
   ],
   "source": [
    "var3 = [ 'DS' , 'ML' , 'Python' ]\n",
    "type(var3)"
   ]
  },
  {
   "cell_type": "code",
   "execution_count": 16,
   "id": "996379db-ba33-4ebc-a134-e489f9234fb8",
   "metadata": {},
   "outputs": [
    {
     "data": {
      "text/plain": [
       "float"
      ]
     },
     "execution_count": 16,
     "metadata": {},
     "output_type": "execute_result"
    }
   ],
   "source": [
    "var4=1.\n",
    "type(var4)"
   ]
  },
  {
   "cell_type": "code",
   "execution_count": 17,
   "id": "1f4190d3-f6c4-4452-afcc-4dc3eda94b12",
   "metadata": {},
   "outputs": [
    {
     "name": "stdout",
     "output_type": "stream",
     "text": [
      "3.3333333333333335\n"
     ]
    }
   ],
   "source": [
    "# question3\n",
    "a = 10\n",
    "b = 3\n",
    "result = a / b\n",
    "print(result)\n"
   ]
  },
  {
   "cell_type": "code",
   "execution_count": 18,
   "id": "e25e30fa-6617-4f50-a77a-43ea230e60f4",
   "metadata": {},
   "outputs": [
    {
     "name": "stdout",
     "output_type": "stream",
     "text": [
      "1\n"
     ]
    }
   ],
   "source": [
    "a = 10\n",
    "b = 3\n",
    "result = a % b\n",
    "print(result)\n"
   ]
  },
  {
   "cell_type": "code",
   "execution_count": 19,
   "id": "0726de51-096a-4fa9-aefe-9dc127575ab9",
   "metadata": {},
   "outputs": [
    {
     "name": "stdout",
     "output_type": "stream",
     "text": [
      "3\n"
     ]
    }
   ],
   "source": [
    "a = 10\n",
    "b = 3\n",
    "result = a // b\n",
    "print(result)\n"
   ]
  },
  {
   "cell_type": "code",
   "execution_count": 20,
   "id": "72ea1be2-a047-4b85-88c7-f9506ac26b23",
   "metadata": {},
   "outputs": [
    {
     "name": "stdout",
     "output_type": "stream",
     "text": [
      "1000\n"
     ]
    }
   ],
   "source": [
    "a = 10\n",
    "b = 3\n",
    "result = a ** b\n",
    "print(result)\n"
   ]
  },
  {
   "cell_type": "code",
   "execution_count": 23,
   "id": "c497f80c-b5ea-4df1-9e1a-095c29036fd4",
   "metadata": {},
   "outputs": [
    {
     "name": "stdout",
     "output_type": "stream",
     "text": [
      "1 <class 'int'>\n",
      "two <class 'str'>\n",
      "3.0 <class 'float'>\n",
      "True <class 'bool'>\n",
      "[4, 5] <class 'list'>\n",
      "{'name': 'satyam', 'age': 21} <class 'dict'>\n",
      "None <class 'NoneType'>\n",
      "('a', 'b') <class 'tuple'>\n",
      "False <class 'bool'>\n",
      "10.5 <class 'float'>\n"
     ]
    }
   ],
   "source": [
    "# question4\n",
    "my_list = [1, \"two\", 3.0, True, [4, 5], {\"name\": \"satyam\", \"age\": 21}, None, ('a', 'b'), False, 10.5]\n",
    "\n",
    "for item in my_list:\n",
    "    print(item, type(item))\n"
   ]
  },
  {
   "cell_type": "code",
   "execution_count": 24,
   "id": "1f1ff552-9bc1-4daf-8eb2-30a862e9e841",
   "metadata": {},
   "outputs": [
    {
     "name": "stdout",
     "output_type": "stream",
     "text": [
      "A is divisible by B 2 times.\n"
     ]
    }
   ],
   "source": [
    "# question5\n",
    "A = 100\n",
    "B = 5\n",
    "count = 0\n",
    "\n",
    "while A % B == 0:\n",
    "    A /= B\n",
    "    count += 1\n",
    "\n",
    "print(f\"A is divisible by B {count} times.\")\n"
   ]
  },
  {
   "cell_type": "code",
   "execution_count": 32,
   "id": "8bd168a9-aca8-45d9-8d57-e9bfcceacc5a",
   "metadata": {},
   "outputs": [
    {
     "name": "stdout",
     "output_type": "stream",
     "text": [
      "11 is not divisible by 3.\n",
      "9 is divisible by 3.\n",
      "15 is divisible by 3.\n",
      "17 is not divisible by 3.\n",
      "21 is divisible by 3.\n",
      "36 is divisible by 3.\n",
      "45 is divisible by 3.\n",
      "8 is not divisible by 3.\n",
      "3 is divisible by 3.\n",
      "17 is not divisible by 3.\n",
      "30 is divisible by 3.\n",
      "22 is not divisible by 3.\n",
      "6 is divisible by 3.\n",
      "11 is not divisible by 3.\n",
      "42 is divisible by 3.\n",
      "18 is divisible by 3.\n",
      "33 is divisible by 3.\n",
      "25 is not divisible by 3.\n",
      "2 is not divisible by 3.\n",
      "39 is divisible by 3.\n",
      "13 is not divisible by 3.\n",
      "24 is divisible by 3.\n",
      "1 is not divisible by 3.\n",
      "10 is not divisible by 3.\n",
      "121 is not divisible by 3.\n"
     ]
    }
   ],
   "source": [
    "# question6\n",
    "my_list = [11, 9, 15, 17, 21, 36, 45, 8, 3, 17, 30, 22, 6, 11, 42, 18, 33, 25, 2, 39, 13, 24, 1, 10, 121]\n",
    "\n",
    "for element in my_list:\n",
    "    if element % 3 == 0:\n",
    "        print(f\"{element} is divisible by 3.\")\n",
    "    else:\n",
    "        print(f\"{element} is not divisible by 3.\")\n"
   ]
  },
  {
   "cell_type": "code",
   "execution_count": 33,
   "id": "e8ebe68d-663c-47d4-b75f-893f3af0ff71",
   "metadata": {},
   "outputs": [
    {
     "name": "stdout",
     "output_type": "stream",
     "text": [
      "Hello World\n",
      "Hello\n"
     ]
    }
   ],
   "source": [
    "# question7\n",
    "# Immutable data types\n",
    "str1 = \"Hello\"\n",
    "str2 = str1\n",
    "str1 = str1 + \" World\"\n",
    "\n",
    "print(str1)  # Output: \"Hello World\"\n",
    "print(str2)  # Output: \"Hello\"\n",
    "\n"
   ]
  },
  {
   "cell_type": "code",
   "execution_count": 34,
   "id": "a3a86bfe-c501-4692-b6d3-c41b108e88a8",
   "metadata": {},
   "outputs": [
    {
     "name": "stdout",
     "output_type": "stream",
     "text": [
      "[1, 2, 3, 4]\n",
      "[1, 2, 3, 4]\n"
     ]
    }
   ],
   "source": [
    "# Mutable data types\n",
    "list1 = [1, 2, 3]\n",
    "list2 = list1\n",
    "list1.append(4)\n",
    "\n",
    "print(list1)  # Output: [1, 2, 3, 4]\n",
    "print(list2)  # Output: [1, 2, 3, 4]\n"
   ]
  },
  {
   "cell_type": "code",
   "execution_count": null,
   "id": "affbf746-22e9-454d-bc71-5ebfa74db67b",
   "metadata": {},
   "outputs": [],
   "source": []
  },
  {
   "cell_type": "code",
   "execution_count": null,
   "id": "426de2cc-fbb3-47f8-813f-6afddde036f3",
   "metadata": {},
   "outputs": [],
   "source": []
  },
  {
   "cell_type": "code",
   "execution_count": null,
   "id": "f0365942-5d05-45bc-bf96-4351f5b76ee3",
   "metadata": {},
   "outputs": [],
   "source": []
  }
 ],
 "metadata": {
  "kernelspec": {
   "display_name": "Python 3 (ipykernel)",
   "language": "python",
   "name": "python3"
  },
  "language_info": {
   "codemirror_mode": {
    "name": "ipython",
    "version": 3
   },
   "file_extension": ".py",
   "mimetype": "text/x-python",
   "name": "python",
   "nbconvert_exporter": "python",
   "pygments_lexer": "ipython3",
   "version": "3.10.6"
  }
 },
 "nbformat": 4,
 "nbformat_minor": 5
}
